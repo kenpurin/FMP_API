{
  "nbformat": 4,
  "nbformat_minor": 0,
  "metadata": {
    "colab": {
      "name": "code_de_for_FMP.ipynb",
      "provenance": [],
      "collapsed_sections": [],
      "toc_visible": true,
      "authorship_tag": "ABX9TyO9aYdHL9mEwYnbdENkRffN",
      "include_colab_link": true
    },
    "kernelspec": {
      "name": "python3",
      "display_name": "Python 3"
    },
    "language_info": {
      "name": "python"
    }
  },
  "cells": [
    {
      "cell_type": "markdown",
      "metadata": {
        "id": "view-in-github",
        "colab_type": "text"
      },
      "source": [
        "<a href=\"https://colab.research.google.com/github/kenpurin/FMP_API/blob/main/code_de_for_FMP.ipynb\" target=\"_parent\"><img src=\"https://colab.research.google.com/assets/colab-badge.svg\" alt=\"Open In Colab\"/></a>"
      ]
    },
    {
      "cell_type": "markdown",
      "source": [
        "# Take-home assignment requires"
      ],
      "metadata": {
        "id": "aEuz1Q7UsAgK"
      }
    },
    {
      "cell_type": "markdown",
      "source": [
        "# - Name: Purin Charunrattanapiriya\n",
        "# - Email: purin.cha1996@gmail.com\n",
        "\n",
        "\n"
      ],
      "metadata": {
        "id": "ANBEWbDuvVii"
      }
    },
    {
      "cell_type": "markdown",
      "source": [
        "# **Information**\n",
        "- Get the data from a free financial data API called FMP (https://site.financialmodelingprep.com/developer/docs/)\n",
        "\n",
        "  Historical Dividends (https://site.financialmodelingprep.com/developer/docs/#Historical-Dividends)\n",
        "- Delisted companies ((https://site.financialmodelingprep.com/developer/docs/delisted-companies-api/))\n",
        "- Store the retrieved data in any database you are comfortable working with (for example, you may setup MySQL on your local machine)"
      ],
      "metadata": {
        "id": "KrtSQ_VmsE_Z"
      }
    },
    {
      "cell_type": "markdown",
      "source": [
        "# Codeing"
      ],
      "metadata": {
        "id": "MHTlS4C1sOVL"
      }
    },
    {
      "cell_type": "code",
      "source": [
        "!git clone https://github.com/kenpurin/FMP_API.git"
      ],
      "metadata": {
        "colab": {
          "base_uri": "https://localhost:8080/"
        },
        "id": "AMriZWkdNM83",
        "outputId": "62485b47-806e-4da1-8665-85d9013e5737"
      },
      "execution_count": 67,
      "outputs": [
        {
          "output_type": "stream",
          "name": "stdout",
          "text": [
            "Cloning into 'FMP_API'...\n",
            "remote: Enumerating objects: 9, done.\u001b[K\n",
            "remote: Counting objects: 100% (9/9), done.\u001b[K\n",
            "remote: Compressing objects: 100% (6/6), done.\u001b[K\n",
            "remote: Total 9 (delta 0), reused 0 (delta 0), pack-reused 0\u001b[K\n",
            "Unpacking objects: 100% (9/9), done.\n"
          ]
        }
      ]
    },
    {
      "cell_type": "code",
      "source": [
        "#install lib\n",
        "#Mysql\n",
        "!pip install mysql-connector-python\n",
        "#FMP SDK\n",
        "!pip install fmpsdk"
      ],
      "metadata": {
        "colab": {
          "base_uri": "https://localhost:8080/"
        },
        "id": "nQPv7HhFlfH8",
        "outputId": "1267d138-abd7-4661-9d90-ec1549c40f57"
      },
      "execution_count": null,
      "outputs": [
        {
          "output_type": "stream",
          "name": "stdout",
          "text": [
            "Looking in indexes: https://pypi.org/simple, https://us-python.pkg.dev/colab-wheels/public/simple/\n",
            "Requirement already satisfied: mysql-connector-python in /usr/local/lib/python3.7/dist-packages (8.0.30)\n",
            "Requirement already satisfied: protobuf<=3.20.1,>=3.11.0 in /usr/local/lib/python3.7/dist-packages (from mysql-connector-python) (3.17.3)\n",
            "Requirement already satisfied: six>=1.9 in /usr/local/lib/python3.7/dist-packages (from protobuf<=3.20.1,>=3.11.0->mysql-connector-python) (1.15.0)\n",
            "Looking in indexes: https://pypi.org/simple, https://us-python.pkg.dev/colab-wheels/public/simple/\n",
            "Requirement already satisfied: fmp_python in /usr/local/lib/python3.7/dist-packages (0.1.4)\n",
            "Requirement already satisfied: requests in /usr/local/lib/python3.7/dist-packages (from fmp_python) (2.23.0)\n",
            "Requirement already satisfied: pandas in /usr/local/lib/python3.7/dist-packages (from fmp_python) (1.3.5)\n",
            "Requirement already satisfied: pytz>=2017.3 in /usr/local/lib/python3.7/dist-packages (from pandas->fmp_python) (2022.1)\n",
            "Requirement already satisfied: python-dateutil>=2.7.3 in /usr/local/lib/python3.7/dist-packages (from pandas->fmp_python) (2.8.2)\n",
            "Requirement already satisfied: numpy>=1.17.3 in /usr/local/lib/python3.7/dist-packages (from pandas->fmp_python) (1.21.6)\n",
            "Requirement already satisfied: six>=1.5 in /usr/local/lib/python3.7/dist-packages (from python-dateutil>=2.7.3->pandas->fmp_python) (1.15.0)\n",
            "Requirement already satisfied: idna<3,>=2.5 in /usr/local/lib/python3.7/dist-packages (from requests->fmp_python) (2.10)\n",
            "Requirement already satisfied: urllib3!=1.25.0,!=1.25.1,<1.26,>=1.21.1 in /usr/local/lib/python3.7/dist-packages (from requests->fmp_python) (1.24.3)\n",
            "Requirement already satisfied: certifi>=2017.4.17 in /usr/local/lib/python3.7/dist-packages (from requests->fmp_python) (2022.6.15)\n",
            "Requirement already satisfied: chardet<4,>=3.0.2 in /usr/local/lib/python3.7/dist-packages (from requests->fmp_python) (3.0.4)\n",
            "Looking in indexes: https://pypi.org/simple, https://us-python.pkg.dev/colab-wheels/public/simple/\n",
            "Requirement already satisfied: fmpsdk in /usr/local/lib/python3.7/dist-packages (20220805.0)\n",
            "Requirement already satisfied: python-dotenv in /usr/local/lib/python3.7/dist-packages (from fmpsdk) (0.20.0)\n",
            "Requirement already satisfied: requests in /usr/local/lib/python3.7/dist-packages (from fmpsdk) (2.23.0)\n",
            "Requirement already satisfied: chardet<4,>=3.0.2 in /usr/local/lib/python3.7/dist-packages (from requests->fmpsdk) (3.0.4)\n",
            "Requirement already satisfied: certifi>=2017.4.17 in /usr/local/lib/python3.7/dist-packages (from requests->fmpsdk) (2022.6.15)\n",
            "Requirement already satisfied: idna<3,>=2.5 in /usr/local/lib/python3.7/dist-packages (from requests->fmpsdk) (2.10)\n",
            "Requirement already satisfied: urllib3!=1.25.0,!=1.25.1,<1.26,>=1.21.1 in /usr/local/lib/python3.7/dist-packages (from requests->fmpsdk) (1.24.3)\n"
          ]
        }
      ]
    },
    {
      "cell_type": "markdown",
      "source": [
        "FMP SDK"
      ],
      "metadata": {
        "id": "xltqtjJZN-Qa"
      }
    },
    {
      "cell_type": "code",
      "source": [
        "#!/usr/bin/env python3\n",
        "\n",
        "import os\n",
        "from dotenv import load_dotenv\n",
        "import typing\n",
        "import fmpsdk\n",
        "\n",
        "# Actual API key is stored in a .env file.  Not good to store API key directly in script.\n",
        "load_dotenv('/content/FMP_API/a.env')\n",
        "#api key\n",
        "\n",
        "apikey = os.environ.get(\"apikey\")\n",
        "\n",
        "# Company Valuation Methods\n",
        "symbol: str = \"AAPL\"\n",
        "#print(f\"Company Profile: {fmpsdk.company_profile(apikey=apikey, symbol=symbol)}\")"
      ],
      "metadata": {
        "colab": {
          "base_uri": "https://localhost:8080/"
        },
        "id": "32xJXpyE4I55",
        "outputId": "a78f335d-cbc2-4206-d8f4-d6ac3de2425e"
      },
      "execution_count": 68,
      "outputs": [
        {
          "output_type": "stream",
          "name": "stdout",
          "text": [
            "Company Profile: [{'symbol': 'AAPL', 'price': 174.15, 'beta': 1.230174, 'volAvg': 77846158, 'mktCap': 2798729822208, 'lastDiv': 0.9, 'range': '129.04-182.94', 'changes': -0.40000916, 'companyName': 'Apple Inc.', 'currency': 'USD', 'cik': '0000320193', 'isin': 'US0378331005', 'cusip': '037833100', 'exchange': 'NASDAQ Global Select', 'exchangeShortName': 'NASDAQ', 'industry': 'Consumer Electronics', 'website': 'https://www.apple.com', 'description': 'Apple Inc. designs, manufactures, and markets smartphones, personal computers, tablets, wearables, and accessories worldwide. It also sells various related services. In addition, the company offers iPhone, a line of smartphones; Mac, a line of personal computers; iPad, a line of multi-purpose tablets; AirPods Max, an over-ear wireless headphone; and wearables, home, and accessories comprising AirPods, Apple TV, Apple Watch, Beats products, HomePod, and iPod touch. Further, it provides AppleCare support services; cloud services store services; and operates various platforms, including the App Store that allow customers to discover and download applications and digital content, such as books, music, video, games, and podcasts. Additionally, the company offers various services, such as Apple Arcade, a game subscription service; Apple Music, which offers users a curated listening experience with on-demand radio stations; Apple News+, a subscription news and magazine service; Apple TV+, which offers exclusive original content; Apple Card, a co-branded credit card; and Apple Pay, a cashless payment service, as well as licenses its intellectual property. The company serves consumers, and small and mid-sized businesses; and the education, enterprise, and government markets. It distributes third-party applications for its products through the App Store. The company also sells its products through its retail and online stores, and direct sales force; and third-party cellular network carriers, wholesalers, retailers, and resellers. Apple Inc. was incorporated in 1977 and is headquartered in Cupertino, California.', 'ceo': 'Mr. Timothy Cook', 'sector': 'Technology', 'country': 'US', 'fullTimeEmployees': '154000', 'phone': '14089961010', 'address': '1 Apple Park Way', 'city': 'Cupertino', 'state': 'CALIFORNIA', 'zip': '95014', 'dcfDiff': 2.07176, 'dcf': 176.222, 'image': 'https://financialmodelingprep.com/image-stock/AAPL.png', 'ipoDate': '1980-12-12', 'defaultImage': False, 'isEtf': False, 'isActivelyTrading': True, 'isAdr': False, 'isFund': False}]\n"
          ]
        }
      ]
    },
    {
      "cell_type": "code",
      "source": [
        "fmpsdk.company_profile(apikey=apikey, symbol=symbol)"
      ],
      "metadata": {
        "colab": {
          "base_uri": "https://localhost:8080/"
        },
        "id": "UcS17DcTMsWa",
        "outputId": "99f6f923-d836-40c9-885c-74ae7f1a44be"
      },
      "execution_count": 69,
      "outputs": [
        {
          "output_type": "execute_result",
          "data": {
            "text/plain": [
              "[{'symbol': 'AAPL',\n",
              "  'price': 174.15,\n",
              "  'beta': 1.230174,\n",
              "  'volAvg': 77846158,\n",
              "  'mktCap': 2798729822208,\n",
              "  'lastDiv': 0.9,\n",
              "  'range': '129.04-182.94',\n",
              "  'changes': -0.40000916,\n",
              "  'companyName': 'Apple Inc.',\n",
              "  'currency': 'USD',\n",
              "  'cik': '0000320193',\n",
              "  'isin': 'US0378331005',\n",
              "  'cusip': '037833100',\n",
              "  'exchange': 'NASDAQ Global Select',\n",
              "  'exchangeShortName': 'NASDAQ',\n",
              "  'industry': 'Consumer Electronics',\n",
              "  'website': 'https://www.apple.com',\n",
              "  'description': 'Apple Inc. designs, manufactures, and markets smartphones, personal computers, tablets, wearables, and accessories worldwide. It also sells various related services. In addition, the company offers iPhone, a line of smartphones; Mac, a line of personal computers; iPad, a line of multi-purpose tablets; AirPods Max, an over-ear wireless headphone; and wearables, home, and accessories comprising AirPods, Apple TV, Apple Watch, Beats products, HomePod, and iPod touch. Further, it provides AppleCare support services; cloud services store services; and operates various platforms, including the App Store that allow customers to discover and download applications and digital content, such as books, music, video, games, and podcasts. Additionally, the company offers various services, such as Apple Arcade, a game subscription service; Apple Music, which offers users a curated listening experience with on-demand radio stations; Apple News+, a subscription news and magazine service; Apple TV+, which offers exclusive original content; Apple Card, a co-branded credit card; and Apple Pay, a cashless payment service, as well as licenses its intellectual property. The company serves consumers, and small and mid-sized businesses; and the education, enterprise, and government markets. It distributes third-party applications for its products through the App Store. The company also sells its products through its retail and online stores, and direct sales force; and third-party cellular network carriers, wholesalers, retailers, and resellers. Apple Inc. was incorporated in 1977 and is headquartered in Cupertino, California.',\n",
              "  'ceo': 'Mr. Timothy Cook',\n",
              "  'sector': 'Technology',\n",
              "  'country': 'US',\n",
              "  'fullTimeEmployees': '154000',\n",
              "  'phone': '14089961010',\n",
              "  'address': '1 Apple Park Way',\n",
              "  'city': 'Cupertino',\n",
              "  'state': 'CALIFORNIA',\n",
              "  'zip': '95014',\n",
              "  'dcfDiff': 2.07176,\n",
              "  'dcf': 176.222,\n",
              "  'image': 'https://financialmodelingprep.com/image-stock/AAPL.png',\n",
              "  'ipoDate': '1980-12-12',\n",
              "  'defaultImage': False,\n",
              "  'isEtf': False,\n",
              "  'isActivelyTrading': True,\n",
              "  'isAdr': False,\n",
              "  'isFund': False}]"
            ]
          },
          "metadata": {},
          "execution_count": 69
        }
      ]
    },
    {
      "cell_type": "markdown",
      "source": [
        "Historical Dividends"
      ],
      "metadata": {
        "id": "oFW2VQjCN5Yh"
      }
    },
    {
      "cell_type": "code",
      "source": [
        "#print(f\"Historical Dividends: {fmpsdk.historical_stock_dividend(apikey=apikey, symbol=symbol)}\")\n",
        "fmpsdk.historical_stock_dividend(apikey=apikey, symbol=symbol)"
      ],
      "metadata": {
        "id": "_GrZWt6IM9l5"
      },
      "execution_count": null,
      "outputs": []
    },
    {
      "cell_type": "markdown",
      "source": [
        "Delisted Companies"
      ],
      "metadata": {
        "id": "knpe2_oHODzp"
      }
    },
    {
      "cell_type": "code",
      "source": [
        "limit: int = 3\n",
        "#print(f\"Delisted Companies: {fmpsdk.delisted_companies(apikey=apikey, limit=limit)}\")\n",
        "fmpsdk.delisted_companies(apikey=apikey, limit=limit)"
      ],
      "metadata": {
        "colab": {
          "base_uri": "https://localhost:8080/"
        },
        "id": "PZ9_XjgAOTCN",
        "outputId": "d0bb7ea5-62b0-4534-b866-5a16204ec483"
      },
      "execution_count": 77,
      "outputs": [
        {
          "output_type": "execute_result",
          "data": {
            "text/plain": [
              "[{'symbol': 'ALIN-P-A',\n",
              "  'companyName': 'Altera Infrastructure L.P',\n",
              "  'exchange': 'NYSE',\n",
              "  'ipoDate': '2014-09-22',\n",
              "  'delistedDate': '2022-08-17'},\n",
              " {'symbol': 'ARD',\n",
              "  'companyName': 'Ardagh Group S.A. - Class A',\n",
              "  'exchange': 'NYSE',\n",
              "  'ipoDate': '2017-03-15',\n",
              "  'delistedDate': '2022-08-17'},\n",
              " {'symbol': 'ATC',\n",
              "  'companyName': 'Atotech Ltd',\n",
              "  'exchange': 'NYSE',\n",
              "  'ipoDate': '2021-02-04',\n",
              "  'delistedDate': '2022-08-17'}]"
            ]
          },
          "metadata": {},
          "execution_count": 77
        }
      ]
    }
  ]
}